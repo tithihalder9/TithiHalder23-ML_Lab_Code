{
  "nbformat": 4,
  "nbformat_minor": 0,
  "metadata": {
    "colab": {
      "provenance": [],
      "authorship_tag": "ABX9TyOy3pGWIQ4ehOUoaGxR3pEW",
      "include_colab_link": true
    },
    "kernelspec": {
      "name": "python3",
      "display_name": "Python 3"
    },
    "language_info": {
      "name": "python"
    }
  },
  "cells": [
    {
      "cell_type": "markdown",
      "metadata": {
        "id": "view-in-github",
        "colab_type": "text"
      },
      "source": [
        "<a href=\"https://colab.research.google.com/github/tithihalder9/TithiHalder23-ML_Lab_Code/blob/main/Q15_weather_station_dataset_csv.ipynb\" target=\"_parent\"><img src=\"https://colab.research.google.com/assets/colab-badge.svg\" alt=\"Open In Colab\"/></a>"
      ]
    },
    {
      "cell_type": "code",
      "execution_count": 1,
      "metadata": {
        "colab": {
          "base_uri": "https://localhost:8080/"
        },
        "id": "lvJXQ4ZNrJyx",
        "outputId": "d7f6a0c3-6aec-4031-b700-5e89e59f85df"
      },
      "outputs": [
        {
          "output_type": "stream",
          "name": "stdout",
          "text": [
            "✅ Dataset created: weather_station_dataset.csv\n",
            "  Station_ID  Temperature(°C)  Humidity(%)  WindSpeed(km/h)  Rainfall(mm)  \\\n",
            "0        ST1        27.483571    68.240840         7.923146    107.514786   \n",
            "1        ST2        24.308678    61.149177        12.896773    110.393446   \n",
            "2        ST3        28.238443    58.230780        13.286427     79.599258   \n",
            "3        ST4        32.615149    71.116763        10.988614    106.967611   \n",
            "4        ST5        23.829233    75.309995        14.193571    108.792174   \n",
            "\n",
            "   Pressure(hPa)  \n",
            "0    1015.862299  \n",
            "1    1017.486276  \n",
            "2    1021.664410  \n",
            "3    1021.430416  \n",
            "4    1001.978645  \n"
          ]
        }
      ],
      "source": [
        "# Create Weather Station Dataset\n",
        "import pandas as pd\n",
        "import numpy as np\n",
        "\n",
        "np.random.seed(42)\n",
        "\n",
        "data = {\n",
        "    'Station_ID': [f'ST{i}' for i in range(1, 51)],\n",
        "    'Temperature(°C)': np.random.normal(25, 5, 50),    # avg temp between 15–35\n",
        "    'Humidity(%)': np.random.normal(65, 10, 50),       # avg humidity 55–75\n",
        "    'WindSpeed(km/h)': np.random.normal(15, 5, 50),    # average 10–20\n",
        "    'Rainfall(mm)': np.random.normal(100, 30, 50),     # avg rainfall 70–130\n",
        "    'Pressure(hPa)': np.random.normal(1013, 8, 50)     # around 1013 hPa\n",
        "}\n",
        "\n",
        "df = pd.DataFrame(data)\n",
        "df.loc[48:, ['Temperature(°C)', 'Rainfall(mm)']] += 40  # Add some outliers\n",
        "\n",
        "df.to_csv(\"weather_station_dataset.csv\", index=False)\n",
        "print(\"✅ Dataset created: weather_station_dataset.csv\")\n",
        "print(df.head())\n"
      ]
    },
    {
      "cell_type": "code",
      "source": [
        "# Data Cleaning & Feature Selection\n",
        "from sklearn.preprocessing import StandardScaler\n",
        "\n",
        "# Load dataset\n",
        "df = pd.read_csv(\"weather_station_dataset.csv\")\n",
        "\n",
        "# Check missing values\n",
        "print(\"\\nMissing Values:\\n\", df.isnull().sum())\n",
        "\n",
        "# Feature Selection (numeric)\n",
        "features = ['Temperature(°C)', 'Humidity(%)', 'WindSpeed(km/h)', 'Rainfall(mm)', 'Pressure(hPa)']\n",
        "X = df[features]\n",
        "\n",
        "# Standardization\n",
        "scaler = StandardScaler()\n",
        "X_scaled = scaler.fit_transform(X)\n",
        "print(\"\\n✅ Data standardized for clustering.\")\n"
      ],
      "metadata": {
        "colab": {
          "base_uri": "https://localhost:8080/"
        },
        "id": "JDICJPt_rrba",
        "outputId": "7b7f6111-d815-44bf-b354-ced99b8e5ad9"
      },
      "execution_count": 2,
      "outputs": [
        {
          "output_type": "stream",
          "name": "stdout",
          "text": [
            "\n",
            "Missing Values:\n",
            " Station_ID         0\n",
            "Temperature(°C)    0\n",
            "Humidity(%)        0\n",
            "WindSpeed(km/h)    0\n",
            "Rainfall(mm)       0\n",
            "Pressure(hPa)      0\n",
            "dtype: int64\n",
            "\n",
            "✅ Data standardized for clustering.\n"
          ]
        }
      ]
    }
  ]
}