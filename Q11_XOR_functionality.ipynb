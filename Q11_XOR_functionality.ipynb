{
  "nbformat": 4,
  "nbformat_minor": 0,
  "metadata": {
    "colab": {
      "provenance": [],
      "authorship_tag": "ABX9TyN9som56uUZKEJ1kLv6qUrH",
      "include_colab_link": true
    },
    "kernelspec": {
      "name": "python3",
      "display_name": "Python 3"
    },
    "language_info": {
      "name": "python"
    }
  },
  "cells": [
    {
      "cell_type": "markdown",
      "metadata": {
        "id": "view-in-github",
        "colab_type": "text"
      },
      "source": [
        "<a href=\"https://colab.research.google.com/github/tithihalder9/TithiHalder23-ML_Lab_Code/blob/main/Q11_XOR_functionality.ipynb\" target=\"_parent\"><img src=\"https://colab.research.google.com/assets/colab-badge.svg\" alt=\"Open In Colab\"/></a>"
      ]
    },
    {
      "cell_type": "code",
      "execution_count": 2,
      "metadata": {
        "colab": {
          "base_uri": "https://localhost:8080/"
        },
        "id": "FGOsJxrclqMC",
        "outputId": "112713d8-9eeb-4f70-eb51-1b10b2b1adf5"
      },
      "outputs": [
        {
          "output_type": "stream",
          "name": "stdout",
          "text": [
            "Epoch 0 Loss: 0.2863\n",
            "Epoch 1000 Loss: 0.2424\n",
            "Epoch 2000 Loss: 0.0098\n",
            "Epoch 3000 Loss: 0.0035\n",
            "Epoch 4000 Loss: 0.0021\n",
            "Epoch 5000 Loss: 0.0015\n",
            "Epoch 6000 Loss: 0.0011\n",
            "Epoch 7000 Loss: 0.0009\n",
            "Epoch 8000 Loss: 0.0008\n",
            "Epoch 9000 Loss: 0.0007\n",
            "\n",
            "Final outputs after training:\n",
            "[[0.023]\n",
            " [0.974]\n",
            " [0.974]\n",
            " [0.021]]\n"
          ]
        }
      ],
      "source": [
        "import numpy as np\n",
        "\n",
        "# Define sigmoid activation and its derivative\n",
        "def sigmoid(x):\n",
        "    return 1 / (1 + np.exp(-x))\n",
        "\n",
        "def sigmoid_derivative(x):\n",
        "    return x * (1 - x)\n",
        "\n",
        "# XOR dataset\n",
        "X = np.array([\n",
        "    [0, 0],\n",
        "    [0, 1],\n",
        "    [1, 0],\n",
        "    [1, 1]\n",
        "])\n",
        "\n",
        "y = np.array([[0], [1], [1], [0]])\n",
        "\n",
        "# Set random seed for reproducibility\n",
        "np.random.seed(42)\n",
        "\n",
        "# Initialize weights and biases\n",
        "input_size = 2\n",
        "hidden_size = 2\n",
        "output_size = 1\n",
        "\n",
        "W1 = np.random.uniform(-1, 1, (input_size, hidden_size))\n",
        "b1 = np.zeros((1, hidden_size))\n",
        "W2 = np.random.uniform(-1, 1, (hidden_size, output_size))\n",
        "b2 = np.zeros((1, output_size))\n",
        "\n",
        "# Training parameters\n",
        "learning_rate = 0.5\n",
        "epochs = 10000\n",
        "\n",
        "# Training loop\n",
        "for epoch in range(epochs):\n",
        "    # Forward pass\n",
        "    hidden_input = np.dot(X, W1) + b1\n",
        "    hidden_output = sigmoid(hidden_input)\n",
        "\n",
        "    final_input = np.dot(hidden_output, W2) + b2\n",
        "    final_output = sigmoid(final_input)\n",
        "\n",
        "    # Compute error\n",
        "    error = y - final_output\n",
        "\n",
        "    # Backpropagation\n",
        "    d_output = error * sigmoid_derivative(final_output)\n",
        "    d_hidden = d_output.dot(W2.T) * sigmoid_derivative(hidden_output)\n",
        "\n",
        "    # Update weights and biases\n",
        "    W2 += hidden_output.T.dot(d_output) * learning_rate\n",
        "    b2 += np.sum(d_output, axis=0, keepdims=True) * learning_rate\n",
        "    W1 += X.T.dot(d_hidden) * learning_rate\n",
        "    b1 += np.sum(d_hidden, axis=0, keepdims=True) * learning_rate\n",
        "\n",
        "    # Print loss occasionally\n",
        "    if epoch % 1000 == 0:\n",
        "        loss = np.mean(np.square(error))\n",
        "        print(f\"Epoch {epoch} Loss: {loss:.4f}\")\n",
        "\n",
        "# Final results\n",
        "print(\"\\nFinal outputs after training:\")\n",
        "print(final_output.round(3))\n"
      ]
    }
  ]
}